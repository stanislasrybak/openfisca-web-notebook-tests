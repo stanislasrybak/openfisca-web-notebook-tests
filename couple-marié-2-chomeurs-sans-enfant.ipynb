{
 "metadata": {
  "name": "couple-mari\u00e9-2-chomeurs-sans-enfant"
 },
 "nbformat": 3,
 "nbformat_minor": 0,
 "worksheets": [
  {
   "cells": [
    {
     "cell_type": "code",
     "collapsed": false,
     "input": [
      "from __future__ import division\n",
      "\n",
      "import collections\n",
      "import copy\n",
      "import json\n",
      "import urllib2"
     ],
     "language": "python",
     "metadata": {},
     "outputs": [],
     "prompt_number": 10
    },
    {
     "cell_type": "code",
     "collapsed": false,
     "input": [
      "test_case = dict(\n",
      "    familles = [\n",
      "        dict(\n",
      "            parents = ['ind0', 'ind1'],\n",
      "        ),\n",
      "    ],\n",
      "    foyers_fiscaux = [\n",
      "        dict(\n",
      "            declarants = ['ind0', 'ind1'],\n",
      "            ),\n",
      "    ],\n",
      "    individus = [\n",
      "        dict(\n",
      "            activite = u'Ch\u00f4meur',\n",
      "            birth = 1970,\n",
      "            id = 'ind0',\n",
      "            statmarit = u'C\u00e9libataire',\n",
      "            ),\n",
      "        dict(\n",
      "            activite = u'Ch\u00f4meur',\n",
      "            birth = 1975,\n",
      "            id = 'ind1',\n",
      "            statmarit = u'C\u00e9libataire',\n",
      "            ),\n",
      "     ],\n",
      "    menages = [\n",
      "        dict(\n",
      "            personne_de_reference = 'ind0',\n",
      "            conjoint = 'ind1',\n",
      "        ),\n",
      "    ],\n",
      ")\n",
      "years = [2013]"
     ],
     "language": "python",
     "metadata": {},
     "outputs": [],
     "prompt_number": 11
    },
    {
     "cell_type": "code",
     "collapsed": false,
     "input": [
      "scenarios = [\n",
      "    dict(\n",
      "        axes = [\n",
      "            dict(\n",
      "                count = 2,\n",
      "                max = 12500,\n",
      "                min = 0,\n",
      "                name = 'sali',\n",
      "                ),\n",
      "            dict(\n",
      "                count = 2,\n",
      "                max = 12500,\n",
      "                min = 0,\n",
      "                name = 'sali',\n",
      "                ),\n",
      "            ],\n",
      "        legislation_url = 'http://api.openfisca.fr/api/1/default-legislation',\n",
      "        test_case = test_case,\n",
      "        year = year,\n",
      "        )\n",
      "    for year in years\n",
      "    ]\n",
      "simulation = dict(\n",
      "    scenarios = scenarios,\n",
      "    tax_benefit_system = None,\n",
      "    )"
     ],
     "language": "python",
     "metadata": {},
     "outputs": [],
     "prompt_number": 12
    },
    {
     "cell_type": "code",
     "collapsed": false,
     "input": [
      "request = urllib2.Request('http://api.openfisca.fr/api/1/simulate', headers = {\n",
      "    'Content-Type': 'application/json',\n",
      "    'User-Agent': 'OpenFisca-Notebook',\n",
      "    })\n",
      "try:\n",
      "    response = urllib2.urlopen(request, json.dumps(simulation))\n",
      "except urllib2.HTTPError as response:\n",
      "    print response.read()\n",
      "    raise\n",
      "response_text = response.read()\n",
      "response_dict = json.loads(response_text, object_pairs_hook = collections.OrderedDict)\n",
      "tree = response_dict['value']"
     ],
     "language": "python",
     "metadata": {},
     "outputs": [],
     "prompt_number": 13
    },
    {
     "cell_type": "code",
     "collapsed": false,
     "input": [
      "def any(iterator):\n",
      "    for item in iterator:\n",
      "        if item:\n",
      "            return True\n",
      "    return False\n",
      "\n",
      "def iter_columns_from_tree(node, base_values = None):\n",
      "    children = node.get('children')\n",
      "    if children:\n",
      "        child_base_values = base_values\n",
      "        for child in children:\n",
      "            for column in iter_columns_from_tree(child, base_values = child_base_values):\n",
      "                yield column\n",
      "            if child_base_values is None:\n",
      "                child_base_values = child['values']\n",
      "            else:\n",
      "                child_base_values = [\n",
      "                    base_value + value\n",
      "                    for base_value, value in zip(child_base_values, child['values'])\n",
      "                    ]\n",
      "\n",
      "    if any(value != 0 for value in node['values']):\n",
      "        column = dict(\n",
      "            base_values = base_values,\n",
      "            code = node['code'],\n",
      "            )\n",
      "        column.update(node)\n",
      "        yield column"
     ],
     "language": "python",
     "metadata": {},
     "outputs": [],
     "prompt_number": 14
    },
    {
     "cell_type": "code",
     "collapsed": false,
     "input": [
      "for column_index, column in enumerate(iter_columns_from_tree(tree)):\n",
      "    print u'{:40s} | {}'.format(column['name'], ' | '.join('{:6.0f}'.format(value) for value in column['values']))"
     ],
     "language": "python",
     "metadata": {},
     "outputs": [
      {
       "output_type": "stream",
       "stream": "stdout",
       "text": [
        "Salaires super bruts                     |      0 |      0 |  17318 |  17318\n",
        "Cotisations sociales patronales          |      0 |      0 |  -6864 |  -6864\n",
        "All\u00e8gement sur les bas salaires (Fillon) |      0 |      0 |   4326 |   4326\n",
        "Cr\u00e9dit d'imp\u00f4t comp\u00e9titivit\u00e9-emploi      |      0 |      0 |    616 |    616\n",
        "Salaires bruts                           |      0 |      0 |  15396 |  15396\n",
        "Cotisations sociales salari\u00e9es           |      0 |      0 |  -2125 |  -2125\n",
        "CSG d\u00e9ductible (salaires)                |      0 |      0 |   -771 |   -771\n",
        "Salaires imposables                      |      0 |      0 |  12500 |  12500\n",
        "CSG non d\u00e9ductible (salaires)            |      0 |      0 |   -363 |   -363\n",
        "CRDS (salaires)                          |      0 |      0 |    -76 |    -76\n",
        "Salaires nets                            |      0 |      0 |  12061 |  12061\n",
        "Revenu du travail                        |      0 |      0 |  12061 |  12061\n",
        "Revenus nets                             |      0 |      0 |  12061 |  12061\n",
        "Revenu de solidarit\u00e9 active              |   7307 |   7307 |   2557 |   2557\n",
        "Aide exceptionelle de fin d'ann\u00e9e        |    229 |    229 |    229 |    229\n",
        "Minima sociaux                           |   7535 |   7535 |   2785 |   2785\n",
        "Prestations sociales                     |   7535 |   7535 |   2785 |   2785\n",
        "Revenu disponible                        |   7535 |   7535 |  14847 |  14847\n"
       ]
      }
     ],
     "prompt_number": 15
    },
    {
     "cell_type": "code",
     "collapsed": false,
     "input": [],
     "language": "python",
     "metadata": {},
     "outputs": []
    }
   ],
   "metadata": {}
  }
 ]
}