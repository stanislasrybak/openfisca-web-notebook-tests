{
 "metadata": {
  "name": "couple-marie-2-cadres"
 },
 "nbformat": 3,
 "nbformat_minor": 0,
 "worksheets": [
  {
   "cells": [
    {
     "cell_type": "code",
     "collapsed": false,
     "input": [
      "from __future__ import division\n",
      "\n",
      "import collections\n",
      "import copy\n",
      "import json\n",
      "import urllib2"
     ],
     "language": "python",
     "metadata": {},
     "outputs": [],
     "prompt_number": 11
    },
    {
     "cell_type": "code",
     "collapsed": false,
     "input": [
      "test_case = dict(\n",
      "    familles = [\n",
      "        dict(\n",
      "            parents = ['ind0', 'ind1'],\n",
      "            ),\n",
      "        ],\n",
      "    foyers_fiscaux = [\n",
      "        dict(\n",
      "            declarants = ['ind0', 'ind1'],\n",
      "            ),\n",
      "        ],\n",
      "    individus = [\n",
      "        dict(\n",
      "            activite = u'Actif occup\u00e9',\n",
      "            birth = 1970,\n",
      "            cadre = True,\n",
      "            id = 'ind0',\n",
      "            statmarit = u'Mari\u00e9',\n",
      "            ),\n",
      "        dict(\n",
      "            activite = u'Actif occup\u00e9',\n",
      "            birth = 1970,\n",
      "            cadre = True,\n",
      "            id = 'ind1',\n",
      "            statmarit = u'Mari\u00e9',\n",
      "            ),\n",
      "        ],\n",
      "    menages = [\n",
      "        dict(\n",
      "            personne_de_reference = 'ind0',\n",
      "            conjoint = 'ind1',\n",
      "            ),\n",
      "        ],\n",
      "    )\n",
      "years = [2013]\n"
     ],
     "language": "python",
     "metadata": {},
     "outputs": [],
     "prompt_number": 12
    },
    {
     "cell_type": "code",
     "collapsed": false,
     "input": [
      "scenarios = [\n",
      "    dict(\n",
      "        axes = [\n",
      "            dict(\n",
      "                index = 0,\n",
      "                count = 3,\n",
      "                max = 35000,\n",
      "                min = 0,\n",
      "                name = 'sali',\n",
      "                ),\n",
      "            dict(\n",
      "                index = 1,\n",
      "                count = 3,\n",
      "                max = 35000,\n",
      "                min = 0,\n",
      "                name = 'sali',\n",
      "                ),\n",
      "            ],\n",
      "        legislation_url = 'http://localhost:2014/api/1/default-legislation',\n",
      "        test_case = test_case,\n",
      "        year = year,\n",
      "        )\n",
      "    for year in years\n",
      "    ]\n",
      "simulation = dict(\n",
      "    scenarios = scenarios,\n",
      "    tax_benefit_system = None,\n",
      "    )"
     ],
     "language": "python",
     "metadata": {},
     "outputs": [],
     "prompt_number": 13
    },
    {
     "cell_type": "code",
     "collapsed": false,
     "input": [
      "request = urllib2.Request('http://localhost:2014/api/1/simulate', headers = {\n",
      "    'Content-Type': 'application/json',\n",
      "    'User-Agent': 'OpenFisca-Notebook',\n",
      "    })\n",
      "try:\n",
      "    response = urllib2.urlopen(request, json.dumps(simulation))\n",
      "except urllib2.HTTPError as response:\n",
      "    print response.read()\n",
      "    raise\n",
      "response_text = response.read()\n",
      "response_dict = json.loads(response_text, object_pairs_hook = collections.OrderedDict)\n",
      "tree = response_dict['value']"
     ],
     "language": "python",
     "metadata": {},
     "outputs": [],
     "prompt_number": 14
    },
    {
     "cell_type": "code",
     "collapsed": false,
     "input": [
      "def any(iterator):\n",
      "    for item in iterator:\n",
      "        if item:\n",
      "            return True\n",
      "    return False\n",
      "\n",
      "def iter_columns_from_tree(node, base_values = None):\n",
      "    children = node.get('children')\n",
      "    if children:\n",
      "        child_base_values = base_values\n",
      "        for child in children:\n",
      "            for column in iter_columns_from_tree(child, base_values = child_base_values):\n",
      "                yield column\n",
      "            if child_base_values is None:\n",
      "                child_base_values = child['values']\n",
      "            else:\n",
      "                child_base_values = [\n",
      "                    base_value + value\n",
      "                    for base_value, value in zip(child_base_values, child['values'])\n",
      "                    ]\n",
      "\n",
      "    if any(value != 0 for value in node['values']):\n",
      "        column = dict(\n",
      "            base_values = base_values,\n",
      "            code = node['code'],\n",
      "            )\n",
      "        column.update(node)\n",
      "        yield column"
     ],
     "language": "python",
     "metadata": {},
     "outputs": [],
     "prompt_number": 15
    },
    {
     "cell_type": "code",
     "collapsed": false,
     "input": [
      "for column_index, column in enumerate(iter_columns_from_tree(tree)):\n",
      "    print u'{:40s} | {}'.format(column['name'], ' | '.join('{:6.0f}'.format(value) for value in column['values']))"
     ],
     "language": "python",
     "metadata": {},
     "outputs": [
      {
       "output_type": "stream",
       "stream": "stdout",
       "text": [
        "Salaires super bruts                     |      0 |  27535 |  62105 |  27535 |  55071 |  89640 |  62105 |  89640 | 124209\n",
        "Cotisations sociales patronales          |      0 |  -9609 | -19116 |  -9609 | -19218 | -28725 | -19116 | -28725 | -38233\n",
        "All\u00e8gement sur les bas salaires (Fillon) |      0 |   2766 |      0 |   2766 |   5532 |   2766 |      0 |   2766 |      0\n",
        "Cr\u00e9dit d'imp\u00f4t comp\u00e9titivit\u00e9-emploi      |      0 |    862 |      0 |    862 |   1724 |    862 |      0 |    862 |      0\n",
        "Salaires bruts                           |      0 |  21555 |  42988 |  21555 |  43109 |  64543 |  42988 |  64543 |  85976\n",
        "Cotisations sociales salari\u00e9es           |      0 |  -2975 |  -5834 |  -2975 |  -5949 |  -8809 |  -5834 |  -8809 | -11668\n",
        "CSG d\u00e9ductible (salaires)                |      0 |  -1080 |  -2154 |  -1080 |  -2160 |  -3234 |  -2154 |  -3234 |  -4308\n",
        "Salaires imposables                      |      0 |  17500 |  35000 |  17500 |  35000 |  52500 |  35000 |  52500 |  70000\n",
        "CSG non d\u00e9ductible (salaires)            |      0 |   -508 |  -1014 |   -508 |  -1017 |  -1522 |  -1014 |  -1522 |  -2027\n",
        "CRDS (salaires)                          |      0 |   -106 |   -211 |   -106 |   -212 |   -317 |   -211 |   -317 |   -422\n",
        "Salaires nets                            |      0 |  16886 |  33775 |  16886 |  33772 |  50661 |  33775 |  50661 |  67550\n",
        "Revenu du travail                        |      0 |  16886 |  33775 |  16886 |  33772 |  50661 |  33775 |  50661 |  67550\n",
        "Revenus nets                             |      0 |  16886 |  33775 |  16886 |  33772 |  50661 |  33775 |  50661 |  67550\n",
        "Revenu de solidarit\u00e9 active              |   7307 |    657 |      0 |    657 |      0 |      0 |      0 |      0 |      0\n",
        "Aide exceptionelle de fin d'ann\u00e9e        |    229 |    229 |      0 |    229 |      0 |      0 |      0 |      0 |      0\n",
        "Minima sociaux                           |   7535 |    885 |      0 |    885 |      0 |      0 |      0 |      0 |      0\n",
        "Prestations sociales                     |   7535 |    885 |      0 |    885 |      0 |      0 |      0 |      0 |      0\n",
        "Imp\u00f4t sur le revenu                      |      0 |      0 |  -1710 |      0 |  -1710 |  -3915 |  -1710 |  -3915 |  -7678\n",
        "Imp\u00f4ts directs                           |      0 |      0 |  -1710 |      0 |  -1710 |  -3915 |  -1710 |  -3915 |  -7678\n",
        "Revenu disponible                        |   7535 |  17771 |  32065 |  17771 |  32061 |  46746 |  32065 |  46746 |  59872\n"
       ]
      }
     ],
     "prompt_number": 16
    },
    {
     "cell_type": "code",
     "collapsed": false,
     "input": [],
     "language": "python",
     "metadata": {},
     "outputs": [],
     "prompt_number": 16
    },
    {
     "cell_type": "code",
     "collapsed": false,
     "input": [],
     "language": "python",
     "metadata": {},
     "outputs": []
    }
   ],
   "metadata": {}
  }
 ]
}