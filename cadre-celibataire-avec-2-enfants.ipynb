{
 "metadata": {
  "name": "cadre-celibataire-avec-2-enfants"
 },
 "nbformat": 3,
 "nbformat_minor": 0,
 "worksheets": [
  {
   "cells": [
    {
     "cell_type": "code",
     "collapsed": false,
     "input": [
      "from __future__ import division\n",
      "\n",
      "import collections\n",
      "import copy\n",
      "import json\n",
      "import urllib2"
     ],
     "language": "python",
     "metadata": {},
     "outputs": [],
     "prompt_number": 1
    },
    {
     "cell_type": "code",
     "collapsed": false,
     "input": [
      "\n",
      "test_case = dict(\n",
      "    familles = [\n",
      "        dict(\n",
      "            parents = ['ind0'],\n",
      "            enfants = ['ind1', 'ind2'],\n",
      "            ),\n",
      "        ],\n",
      "    foyers_fiscaux = [\n",
      "        dict(\n",
      "            declarants = ['ind0'],\n",
      "            personnes_a_charge = ['ind1', 'ind2'],\n",
      "            ),\n",
      "        ],\n",
      "    individus = [\n",
      "        dict(\n",
      "            activite = u'Actif occup\u00e9',\n",
      "            birth = 1970,\n",
      "            cadre = True,\n",
      "            id = 'ind0',\n",
      "            statmarit = u'C\u00e9libataire',\n",
      "            ),\n",
      "        dict(\n",
      "            activite = u'\u00c9tudiant, \u00e9l\u00e8ve',\n",
      "            birth = '1992-02-01',\n",
      "            id = 'ind1',\n",
      "            ),\n",
      "        dict(\n",
      "            activite = u'\u00c9tudiant, \u00e9l\u00e8ve',\n",
      "            birth = '1990-04-17',\n",
      "            id = 'ind2',\n",
      "            ),\n",
      "        ],\n",
      "    menages = [\n",
      "        dict(\n",
      "            personne_de_reference = 'ind0',\n",
      "            enfants = ['ind1', 'ind2'],\n",
      "            ),\n",
      "        ],\n",
      "    )\n",
      "years = [2013]"
     ],
     "language": "python",
     "metadata": {},
     "outputs": [],
     "prompt_number": 2
    },
    {
     "cell_type": "code",
     "collapsed": false,
     "input": [
      "scenarios = [\n",
      "    dict(\n",
      "        axes = [\n",
      "            dict(\n",
      "                count = 3,\n",
      "                max = 24000,\n",
      "                min = 0,\n",
      "                name = 'sali',\n",
      "                ),\n",
      "            ],\n",
      "        legislation_url = 'http://localhost:2014/api/1/default-legislation',\n",
      "        test_case = test_case,\n",
      "        year = year,\n",
      "        )\n",
      "    for year in years\n",
      "    ]\n",
      "simulation = dict(\n",
      "    scenarios = scenarios,\n",
      "    tax_benefit_system = None,\n",
      "    )"
     ],
     "language": "python",
     "metadata": {},
     "outputs": [],
     "prompt_number": 3
    },
    {
     "cell_type": "code",
     "collapsed": false,
     "input": [
      "request = urllib2.Request('http://localhost:2014/api/1/simulate', headers = {\n",
      "    'Content-Type': 'application/json',\n",
      "    'User-Agent': 'OpenFisca-Notebook',\n",
      "    })\n",
      "try:\n",
      "    response = urllib2.urlopen(request, json.dumps(simulation))\n",
      "except urllib2.HTTPError as response:\n",
      "    print response.read()\n",
      "    raise\n",
      "response_text = response.read()\n",
      "response_dict = json.loads(response_text, object_pairs_hook = collections.OrderedDict)\n",
      "tree = response_dict['value']"
     ],
     "language": "python",
     "metadata": {},
     "outputs": [],
     "prompt_number": 4
    },
    {
     "cell_type": "code",
     "collapsed": false,
     "input": [
      "def any(iterator):\n",
      "    for item in iterator:\n",
      "        if item:\n",
      "            return True\n",
      "    return False\n",
      "\n",
      "def iter_columns_from_tree(node, base_values = None):\n",
      "    children = node.get('children')\n",
      "    if children:\n",
      "        child_base_values = base_values\n",
      "        for child in children:\n",
      "            for column in iter_columns_from_tree(child, base_values = child_base_values):\n",
      "                yield column\n",
      "            if child_base_values is None:\n",
      "                child_base_values = child['values']\n",
      "            else:\n",
      "                child_base_values = [\n",
      "                    base_value + value\n",
      "                    for base_value, value in zip(child_base_values, child['values'])\n",
      "                    ]\n",
      "\n",
      "    if any(value != 0 for value in node['values']):\n",
      "        column = dict(\n",
      "            base_values = base_values,\n",
      "            code = node['code'],\n",
      "            )\n",
      "        column.update(node)\n",
      "        yield column\n"
     ],
     "language": "python",
     "metadata": {},
     "outputs": [],
     "prompt_number": 5
    },
    {
     "cell_type": "code",
     "collapsed": false,
     "input": [
      "for column_index, column in enumerate(iter_columns_from_tree(tree)):\n",
      "    print u'{:40s} | {}'.format(column['name'], ' | '.join('{:6.0f}'.format(value) for value in column['values']))"
     ],
     "language": "python",
     "metadata": {},
     "outputs": [
      {
       "output_type": "stream",
       "stream": "stdout",
       "text": [
        "Salaires super bruts                     |      0 |  16625 |  41556\n",
        "Cotisations sociales patronales          |      0 |  -6589 | -13178\n",
        "All\u00e8gement sur les bas salaires (Fillon) |      0 |   4153 |      0\n",
        "Cr\u00e9dit d'imp\u00f4t comp\u00e9titivit\u00e9-emploi      |      0 |    591 |   1182\n",
        "Salaires bruts                           |      0 |  14780 |  29561\n",
        "Cotisations sociales salari\u00e9es           |      0 |  -2040 |  -4079\n",
        "CSG d\u00e9ductible (salaires)                |      0 |   -741 |  -1481\n",
        "Salaires imposables                      |      0 |  12000 |  24000\n",
        "CSG non d\u00e9ductible (salaires)            |      0 |   -349 |   -697\n",
        "CRDS (salaires)                          |      0 |    -73 |   -145\n",
        "Salaires nets                            |      0 |  11579 |  23158\n",
        "Revenu du travail                        |      0 |  11579 |  23158\n",
        "Revenus nets                             |      0 |  11579 |  23158\n",
        "Revenu de solidarit\u00e9 active              |   8716 |   4156 |      0\n",
        "Aide exceptionelle de fin d'ann\u00e9e        |    152 |    152 |      0\n",
        "Minima sociaux                           |   8868 |   4308 |      0\n",
        "Prestations sociales                     |   8868 |   4308 |      0\n",
        "Imp\u00f4t sur le revenu                      |      0 |      0 |  -1674\n",
        "Imp\u00f4ts directs                           |      0 |      0 |  -1674\n",
        "Revenu disponible                        |   8868 |  15887 |  21484\n"
       ]
      }
     ],
     "prompt_number": 6
    },
    {
     "cell_type": "code",
     "collapsed": false,
     "input": [],
     "language": "python",
     "metadata": {},
     "outputs": [],
     "prompt_number": 14
    },
    {
     "cell_type": "code",
     "collapsed": false,
     "input": [],
     "language": "python",
     "metadata": {},
     "outputs": []
    }
   ],
   "metadata": {}
  }
 ]
}