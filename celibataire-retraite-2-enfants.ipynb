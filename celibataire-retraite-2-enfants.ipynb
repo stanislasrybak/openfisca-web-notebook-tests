{
 "metadata": {
  "name": "celibataire-retraite-2-enfants"
 },
 "nbformat": 3,
 "nbformat_minor": 0,
 "worksheets": [
  {
   "cells": [
    {
     "cell_type": "code",
     "collapsed": false,
     "input": [
      "from __future__ import division\n",
      "\n",
      "import collections\n",
      "import copy\n",
      "import json\n",
      "import urllib2"
     ],
     "language": "python",
     "metadata": {},
     "outputs": [],
     "prompt_number": 7
    },
    {
     "cell_type": "code",
     "collapsed": false,
     "input": [
      "test_case = dict(\n",
      "    familles = [\n",
      "        dict(\n",
      "            parents = ['ind0'],\n",
      "            enfants = ['ind1', 'ind2'],\n",
      "            ),\n",
      "        ],\n",
      "    foyers_fiscaux = [\n",
      "        dict(\n",
      "            declarants = ['ind0'],\n",
      "            personnes_a_charge = ['ind1', 'ind2'],\n",
      "            ),\n",
      "        ],\n",
      "    individus = [\n",
      "        dict(\n",
      "            activite = u'Retrait\u00e9',\n",
      "            birth = 1940,\n",
      "            id = 'ind0',\n",
      "            statmarit = u'C\u00e9libataire',\n",
      "            ),\n",
      "        dict(\n",
      "            activite = u'\u00c9tudiant, \u00e9l\u00e8ve',\n",
      "            birth = '1992-02-01',\n",
      "            id = 'ind1',\n",
      "            ),\n",
      "        dict(\n",
      "            activite = u'\u00c9tudiant, \u00e9l\u00e8ve',\n",
      "            birth = '1990-04-17',\n",
      "            id = 'ind2',\n",
      "            ),\n",
      "        ],\n",
      "    menages = [\n",
      "        dict(\n",
      "            personne_de_reference = 'ind0',\n",
      "            enfants = ['ind1', 'ind2'],\n",
      "            so = 4,\n",
      "            ),\n",
      "        ],\n",
      "    )\n",
      "years = [2013]"
     ],
     "language": "python",
     "metadata": {},
     "outputs": [],
     "prompt_number": 8
    },
    {
     "cell_type": "code",
     "collapsed": false,
     "input": [
      "scenarios = [\n",
      "    dict(\n",
      "        axes = [\n",
      "            dict(\n",
      "                count = 3,\n",
      "                max = 12500,\n",
      "                min = 0,\n",
      "                name = 'rsti',\n",
      "                ),\n",
      "            ],\n",
      "        legislation_url = 'http://api.openfisca.fr/api/1/default-legislation',\n",
      "        test_case = test_case,\n",
      "        year = year,\n",
      "        )\n",
      "    for year in years\n",
      "    ]\n",
      "simulation = dict(\n",
      "    scenarios = scenarios,\n",
      "    tax_benefit_system = None,\n",
      "    )"
     ],
     "language": "python",
     "metadata": {},
     "outputs": [],
     "prompt_number": 9
    },
    {
     "cell_type": "code",
     "collapsed": false,
     "input": [
      "request = urllib2.Request('http://api.openfisca.fr/api/1/simulate', headers = {\n",
      "    'Content-Type': 'application/json',\n",
      "    'User-Agent': 'OpenFisca-Notebook',\n",
      "    })\n",
      "try:\n",
      "    response = urllib2.urlopen(request, json.dumps(simulation))\n",
      "except urllib2.HTTPError as response:\n",
      "    print response.read()\n",
      "    raise\n",
      "response_text = response.read()\n",
      "response_dict = json.loads(response_text, object_pairs_hook = collections.OrderedDict)\n",
      "tree = response_dict['value']"
     ],
     "language": "python",
     "metadata": {},
     "outputs": [],
     "prompt_number": 10
    },
    {
     "cell_type": "code",
     "collapsed": false,
     "input": [
      "def any(iterator):\n",
      "    for item in iterator:\n",
      "        if item:\n",
      "            return True\n",
      "    return False\n",
      "\n",
      "def iter_columns_from_tree(node, base_values = None):\n",
      "    children = node.get('children')\n",
      "    if children:\n",
      "        child_base_values = base_values\n",
      "        for child in children:\n",
      "            for column in iter_columns_from_tree(child, base_values = child_base_values):\n",
      "                yield column\n",
      "            if child_base_values is None:\n",
      "                child_base_values = child['values']\n",
      "            else:\n",
      "                child_base_values = [\n",
      "                    base_value + value\n",
      "                    for base_value, value in zip(child_base_values, child['values'])\n",
      "                    ]\n",
      "\n",
      "    if any(value != 0 for value in node['values']):\n",
      "        column = dict(\n",
      "            base_values = base_values,\n",
      "            code = node['code'],\n",
      "            )\n",
      "        column.update(node)\n",
      "        yield column"
     ],
     "language": "python",
     "metadata": {},
     "outputs": [],
     "prompt_number": 11
    },
    {
     "cell_type": "code",
     "collapsed": false,
     "input": [
      "for column_index, column in enumerate(iter_columns_from_tree(tree)):\n",
      "    print u'{:40s} | {}'.format(column['name'], ' | '.join('{:6.0f}'.format(value) for value in column['values']))"
     ],
     "language": "python",
     "metadata": {},
     "outputs": [
      {
       "output_type": "stream",
       "stream": "stdout",
       "text": [
        "Retraites brutes                         |      0 |   6524 |  13048\n",
        "CSG d\u00e9ductible (retraite)                |      0 |   -274 |   -548\n",
        "Retraites                                |      0 |   6250 |  12500\n",
        "CSG non d\u00e9ductible (pensions)            |      0 |   -157 |   -313\n",
        "CRDS (pensions)                          |      0 |    -33 |    -65\n",
        "Retraites nettes                         |      0 |   6061 |  12122\n",
        "Pensions                                 |      0 |   6061 |  12122\n",
        "Revenus nets                             |      0 |   6061 |  12122\n",
        "Minimum vieillesse                       |   9326 |   2802 |      0\n",
        "Minima sociaux                           |   9326 |   2802 |      0\n",
        "Allocation de logement familiale         |    365 |    365 |      0\n",
        "CRDS (allocation logement)               |     -2 |     -2 |      0\n",
        "Prestations logement                     |    363 |    363 |      0\n",
        "Prestations sociales                     |   9689 |   3165 |      0\n",
        "Revenu disponible                        |   9689 |   9226 |  12122\n"
       ]
      }
     ],
     "prompt_number": 12
    },
    {
     "cell_type": "code",
     "collapsed": false,
     "input": [],
     "language": "python",
     "metadata": {},
     "outputs": []
    }
   ],
   "metadata": {}
  }
 ]
}