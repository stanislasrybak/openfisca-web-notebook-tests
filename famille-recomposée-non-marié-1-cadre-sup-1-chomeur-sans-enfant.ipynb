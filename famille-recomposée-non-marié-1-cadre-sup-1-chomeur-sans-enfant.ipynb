{
 "metadata": {
  "name": "famille-recompos\u00e9e-non-mari\u00e9-1-cadre-sup-1-chomeur-sans-enfant"
 },
 "nbformat": 3,
 "nbformat_minor": 0,
 "worksheets": [
  {
   "cells": [
    {
     "cell_type": "code",
     "collapsed": false,
     "input": [
      "from __future__ import division\n",
      "\n",
      "import collections\n",
      "import copy\n",
      "import json\n",
      "import urllib2"
     ],
     "language": "python",
     "metadata": {},
     "outputs": [],
     "prompt_number": 1
    },
    {
     "cell_type": "code",
     "collapsed": false,
     "input": [
      "test_case = dict(\n",
      "    familles = [\n",
      "        dict(\n",
      "            parents = ['ind0', 'ind1'],\n",
      "            ),\n",
      "        ],\n",
      "    foyers_fiscaux = [\n",
      "        dict(\n",
      "            declarants = ['ind0'],\n",
      "            ),\n",
      "        dict(\n",
      "            declarants = ['ind1'],\n",
      "            ),\n",
      "        ],\n",
      "    individus = [\n",
      "        dict(\n",
      "            activite = u'Actif occup\u00e9',\n",
      "            birth = 1970,\n",
      "            id = 'ind0',\n",
      "            statmarit = u'Divorc\u00e9',\n",
      "            ),\n",
      "        dict(\n",
      "            activite = u'Ch\u00f4meur',\n",
      "            birth = 1970,\n",
      "            id = 'ind1',\n",
      "            statmarit = u'C\u00e9libataire',\n",
      "            ),\n",
      "        ],\n",
      "    menages = [\n",
      "        dict(\n",
      "            personne_de_reference = 'ind0',\n",
      "            conjoint = 'ind1',\n",
      "            ),\n",
      "        ],\n",
      "    )\n",
      "years = [2013]"
     ],
     "language": "python",
     "metadata": {},
     "outputs": [],
     "prompt_number": 2
    },
    {
     "cell_type": "code",
     "collapsed": false,
     "input": [
      "scenarios = [\n",
      "    dict(\n",
      "        axes = [\n",
      "            dict(\n",
      "                index = 0,\n",
      "                count = 3,\n",
      "                max = 90000,\n",
      "                min = 0,\n",
      "                name = 'sali',\n",
      "                ),\n",
      "            dict(\n",
      "                index = 1,\n",
      "                count = 3,\n",
      "                max = 12000,\n",
      "                min = 0,\n",
      "                name = 'sali',\n",
      "                ),\n",
      "            ],\n",
      "        legislation_url = 'http://api.openfisca.fr/api/1/default-legislation',\n",
      "        test_case = test_case,\n",
      "        year = year,\n",
      "        )\n",
      "    for year in years\n",
      "    ]\n",
      "simulation = dict(\n",
      "    scenarios = scenarios,\n",
      "    tax_benefit_system = None,\n",
      "    )"
     ],
     "language": "python",
     "metadata": {},
     "outputs": [],
     "prompt_number": 3
    },
    {
     "cell_type": "code",
     "collapsed": false,
     "input": [
      "request = urllib2.Request('http://api.openfisca.fr/api/1/simulate', headers = {\n",
      "    'Content-Type': 'application/json',\n",
      "    'User-Agent': 'OpenFisca-Notebook',\n",
      "    })\n",
      "try:\n",
      "    response = urllib2.urlopen(request, json.dumps(simulation))\n",
      "except urllib2.HTTPError as response:\n",
      "    print response.read()\n",
      "    raise\n",
      "response_text = response.read()\n",
      "response_dict = json.loads(response_text, object_pairs_hook = collections.OrderedDict)\n",
      "tree = response_dict['value']"
     ],
     "language": "python",
     "metadata": {},
     "outputs": [],
     "prompt_number": 4
    },
    {
     "cell_type": "code",
     "collapsed": false,
     "input": [
      "def any(iterator):\n",
      "    for item in iterator:\n",
      "        if item:\n",
      "            return True\n",
      "    return False\n",
      "\n",
      "def iter_columns_from_tree(node, base_values = None):\n",
      "    children = node.get('children')\n",
      "    if children:\n",
      "        child_base_values = base_values\n",
      "        for child in children:\n",
      "            for column in iter_columns_from_tree(child, base_values = child_base_values):\n",
      "                yield column\n",
      "            if child_base_values is None:\n",
      "                child_base_values = child['values']\n",
      "            else:\n",
      "                child_base_values = [\n",
      "                    base_value + value\n",
      "                    for base_value, value in zip(child_base_values, child['values'])\n",
      "                    ]\n",
      "\n",
      "    if any(value != 0 for value in node['values']):\n",
      "        column = dict(\n",
      "            base_values = base_values,\n",
      "            code = node['code'],\n",
      "            )\n",
      "        column.update(node)\n",
      "        yield column"
     ],
     "language": "python",
     "metadata": {},
     "outputs": [],
     "prompt_number": 5
    },
    {
     "cell_type": "code",
     "collapsed": false,
     "input": [
      "for column_index, column in enumerate(iter_columns_from_tree(tree)):\n",
      "    print u'{:40s} | {}'.format(column['name'], ' | '.join('{:6.0f}'.format(value) for value in column['values']))"
     ],
     "language": "python",
     "metadata": {},
     "outputs": [
      {
       "output_type": "stream",
       "stream": "stdout",
       "text": [
        "Salaires super bruts                     |      0 |  79461 | 157565 |   8312 |  87774 | 165878 |  16625 |  96086 | 174190\n",
        "Cotisations sociales patronales          |      0 | -24401 | -48184 |  -3295 | -27696 | -51478 |  -6589 | -30990 | -54773\n",
        "All\u00e8gement sur les bas salaires (Fillon) |      0 |      0 |      0 |   2077 |   2077 |   2077 |   4153 |   4153 |   4153\n",
        "Cr\u00e9dit d'imp\u00f4t comp\u00e9titivit\u00e9-emploi      |      0 |      0 |      0 |    296 |    296 |    296 |    591 |    591 |    591\n",
        "Salaires bruts                           |      0 |  55060 | 109382 |   7390 |  62450 | 116772 |  14780 |  69840 | 124162\n",
        "Cotisations sociales salari\u00e9es           |      0 |  -7301 | -13901 |  -1020 |  -8321 | -14921 |  -2040 |  -9340 | -15941\n",
        "CSG d\u00e9ductible (salaires)                |      0 |  -2759 |  -5481 |   -370 |  -3129 |  -5851 |   -741 |  -3500 |  -6221\n",
        "Salaires imposables                      |      0 |  45000 |  90000 |   6000 |  51000 |  96000 |  12000 |  57000 | 102000\n",
        "CSG non d\u00e9ductible (salaires)            |      0 |  -1298 |  -2579 |   -174 |  -1473 |  -2753 |   -349 |  -1647 |  -2928\n",
        "CRDS (salaires)                          |      0 |   -270 |   -537 |    -36 |   -307 |   -574 |    -73 |   -343 |   -610\n",
        "Salaires nets                            |      0 |  43431 |  86883 |   5789 |  49221 |  92673 |  11579 |  55010 |  98462\n",
        "Revenu du travail                        |      0 |  43431 |  86883 |   5789 |  49221 |  92673 |  11579 |  55010 |  98462\n",
        "Revenus nets                             |      0 |  43431 |  86883 |   5789 |  49221 |  92673 |  11579 |  55010 |  98462\n",
        "Revenu de solidarit\u00e9 active              |   7307 |      0 |      0 |   5027 |      0 |      0 |   2747 |      0 |      0\n",
        "Aide exceptionelle de fin d'ann\u00e9e        |    229 |      0 |      0 |    229 |      0 |      0 |    229 |      0 |      0\n",
        "Minima sociaux                           |   7535 |      0 |      0 |   5255 |      0 |      0 |   2975 |      0 |      0\n",
        "Prestations sociales                     |   7535 |      0 |      0 |   5255 |      0 |      0 |   2975 |      0 |      0\n",
        "Imp\u00f4t sur le revenu                      |      0 |  -6539 | -19746 |      0 |  -6539 | -19746 |      0 |  -6539 | -19746\n",
        "Imp\u00f4ts directs                           |      0 |  -6539 | -19746 |      0 |  -6539 | -19746 |      0 |  -6539 | -19746\n",
        "Revenu disponible                        |   7535 |  36892 |  67138 |  11045 |  42681 |  72927 |  14554 |  48471 |  78717\n"
       ]
      }
     ],
     "prompt_number": 6
    },
    {
     "cell_type": "code",
     "collapsed": false,
     "input": [],
     "language": "python",
     "metadata": {},
     "outputs": []
    },
    {
     "cell_type": "code",
     "collapsed": false,
     "input": [],
     "language": "python",
     "metadata": {},
     "outputs": []
    }
   ],
   "metadata": {}
  }
 ]
}