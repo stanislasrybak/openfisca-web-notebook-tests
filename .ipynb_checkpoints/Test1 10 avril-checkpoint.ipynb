{
 "metadata": {
  "name": ""
 },
 "nbformat": 3,
 "nbformat_minor": 0,
 "worksheets": [
  {
   "cells": [
    {
     "cell_type": "code",
     "collapsed": false,
     "input": [
      "import collections\n",
      "import json\n",
      "import logging\n",
      "import urllib2\n",
      "import urlparse\n",
      "\n",
      "from biryani1 import baseconv, custom_conv, jsonconv, states"
     ],
     "language": "python",
     "metadata": {},
     "outputs": [],
     "prompt_number": 1
    },
    {
     "cell_type": "code",
     "collapsed": false,
     "input": [
      "conv = custom_conv(baseconv, jsonconv, states)\n",
      "headers = {\n",
      "    'User-Agent': 'OpenFisca-France-Tests/0.2dev (https://www.github.com/openfisca/openfisca-france test@openfisca.fr)',\n",
      "    }\n",
      "log = logging.getLogger(__name__)\n",
      "web_api_url = 'http://localhost:2014/'"
     ],
     "language": "python",
     "metadata": {},
     "outputs": [],
     "prompt_number": 2
    },
    {
     "cell_type": "code",
     "collapsed": false,
     "input": [
      "api_response_to_tracebacks = conv.pipe(\n",
      "    conv.make_input_to_json(object_pairs_hook = collections.OrderedDict),\n",
      "    conv.not_none,\n",
      "    conv.test_isinstance(dict),\n",
      "    conv.struct(\n",
      "        dict(\n",
      "            apiVersion = conv.pipe(\n",
      "                conv.test_equals('1.0'),\n",
      "                conv.not_none,\n",
      "                ),\n",
      "            context = conv.noop,\n",
      "            data = conv.test_isinstance(dict),\n",
      "            method = conv.pipe(\n",
      "                conv.test_isinstance(basestring),\n",
      "                conv.not_none,\n",
      "                ),\n",
      "            params = conv.test_isinstance(dict),\n",
      "            tracebacks = conv.pipe(\n",
      "                conv.test_isinstance(list),\n",
      "                conv.uniform_sequence(\n",
      "                    conv.test_isinstance(dict),\n",
      "                    ),\n",
      "                ),\n",
      "            url = conv.pipe(\n",
      "                conv.make_input_to_url(full = True),\n",
      "                conv.not_none,\n",
      "                ),\n",
      "            value = conv.noop,\n",
      "            suggestions = conv.noop,\n",
      "            ),\n",
      "        constructor = collections.OrderedDict,\n",
      "        ),\n",
      "    conv.function(lambda response: response['tracebacks']),\n",
      "    )"
     ],
     "language": "python",
     "metadata": {},
     "outputs": [],
     "prompt_number": 3
    },
    {
     "cell_type": "code",
     "collapsed": false,
     "input": [
      "def simulate_case_study(**simulation):\n",
      "    request_headers = headers.copy()\n",
      "    request_headers['Content-Type'] = 'application/json'\n",
      "    request = urllib2.Request(urlparse.urljoin(web_api_url, 'api/1/simulate'), headers = request_headers)\n",
      "    try:\n",
      "        response = urllib2.urlopen(request, json.dumps(simulation))\n",
      "    except urllib2.HTTPError as response:\n",
      "        response_text = response.read()\n",
      "        try:\n",
      "            response_dict = json.loads(response_text, object_pairs_hook = collections.OrderedDict)\n",
      "        except ValueError:\n",
      "            log.error(response_text)\n",
      "            raise\n",
      "        log.error(json.dumps(response_dict, ensure_ascii = False, indent = 2))\n",
      "        raise\n",
      "    assert response.code == 200\n",
      "    result, error = api_response_to_tracebacks(response.read(), state = conv.default_state)\n",
      "    if error is not None:\n",
      "        if isinstance(error, dict):\n",
      "            error = json.dumps(error, ensure_ascii = False, indent = 2, sort_keys = True)\n",
      "        if isinstance(result, dict):\n",
      "            result = json.dumps(result, ensure_ascii = False, indent = 2)\n",
      "        raise ValueError(u'{0} for: {1}'.format(error, result).encode('utf-8'))\n",
      "    return result"
     ],
     "language": "python",
     "metadata": {},
     "outputs": [],
     "prompt_number": 4
    },
    {
     "cell_type": "code",
     "collapsed": false,
     "input": [
      "def test_case_study():\n",
      "    result = simulate_case_study(\n",
      "        # api_key,\n",
      "        scenarios = [\n",
      "            dict(\n",
      "                test_case = dict(\n",
      "                    familles = [\n",
      "                        dict(\n",
      "                            parents = ['ind0', 'ind1'],\n",
      "                            enfants = ['ind2'],\n",
      "                            ),\n",
      "                        ],\n",
      "                    foyers_fiscaux = [\n",
      "                        dict(\n",
      "                            declarants = ['ind0', 'ind1'],\n",
      "                            personnes_a_charge = ['ind2'],\n",
      "                            ),\n",
      "                        ],\n",
      "                    individus = [\n",
      "                        dict(\n",
      "                            birth = '1965-12-27',\n",
      "                            id = 'ind0',\n",
      "                            sali = 18000,\n",
      "                            ),\n",
      "                        dict(\n",
      "                            birth = '1965-12-28',\n",
      "                            id = 'ind1',\n",
      "                            ),\n",
      "                        dict(\n",
      "                            birth = '2005-12-29',\n",
      "                            id = 'ind2',\n",
      "                            ),\n",
      "                        ],\n",
      "                    menages = [\n",
      "                        dict(\n",
      "                            personne_de_reference = 'ind0',\n",
      "                            conjoint = 'ind1',\n",
      "                            enfants = ['ind2'],\n",
      "                            ),\n",
      "                        ],\n",
      "                    ),\n",
      "                year = 2013,\n",
      "                ),\n",
      "            ],\n",
      "        trace = True,\n",
      "        )\n",
      "    print unicode(json.dumps(result, ensure_ascii = False, indent = 2)).encode('utf-8')\n"
     ],
     "language": "python",
     "metadata": {},
     "outputs": [],
     "prompt_number": 5
    },
    {
     "cell_type": "code",
     "collapsed": false,
     "input": [
      "if __name__ == '__main__':\n",
      "    test_case_study()"
     ],
     "language": "python",
     "metadata": {},
     "outputs": [
      {
       "ename": "NameError",
       "evalue": "global name 'api_response_to_value' is not defined",
       "output_type": "pyerr",
       "traceback": [
        "\u001b[0;31m---------------------------------------------------------------------------\u001b[0m\n\u001b[0;31mNameError\u001b[0m                                 Traceback (most recent call last)",
        "\u001b[0;32m<ipython-input-6-28d3991c6568>\u001b[0m in \u001b[0;36m<module>\u001b[0;34m()\u001b[0m\n\u001b[1;32m      1\u001b[0m \u001b[0;32mif\u001b[0m \u001b[0m__name__\u001b[0m \u001b[0;34m==\u001b[0m \u001b[0;34m'__main__'\u001b[0m\u001b[0;34m:\u001b[0m\u001b[0;34m\u001b[0m\u001b[0m\n\u001b[0;32m----> 2\u001b[0;31m     \u001b[0mtest_case_study\u001b[0m\u001b[0;34m(\u001b[0m\u001b[0;34m)\u001b[0m\u001b[0;34m\u001b[0m\u001b[0m\n\u001b[0m",
        "\u001b[0;32m<ipython-input-5-7fce28842e2c>\u001b[0m in \u001b[0;36mtest_case_study\u001b[0;34m()\u001b[0m\n\u001b[1;32m     43\u001b[0m                 ),\n\u001b[1;32m     44\u001b[0m             ],\n\u001b[0;32m---> 45\u001b[0;31m         \u001b[0mtrace\u001b[0m \u001b[0;34m=\u001b[0m \u001b[0mTrue\u001b[0m\u001b[0;34m,\u001b[0m\u001b[0;34m\u001b[0m\u001b[0m\n\u001b[0m\u001b[1;32m     46\u001b[0m         )\n\u001b[1;32m     47\u001b[0m     \u001b[0;32mprint\u001b[0m \u001b[0municode\u001b[0m\u001b[0;34m(\u001b[0m\u001b[0mjson\u001b[0m\u001b[0;34m.\u001b[0m\u001b[0mdumps\u001b[0m\u001b[0;34m(\u001b[0m\u001b[0mresult\u001b[0m\u001b[0;34m,\u001b[0m \u001b[0mensure_ascii\u001b[0m \u001b[0;34m=\u001b[0m \u001b[0mFalse\u001b[0m\u001b[0;34m,\u001b[0m \u001b[0mindent\u001b[0m \u001b[0;34m=\u001b[0m \u001b[0;36m2\u001b[0m\u001b[0;34m)\u001b[0m\u001b[0;34m)\u001b[0m\u001b[0;34m.\u001b[0m\u001b[0mencode\u001b[0m\u001b[0;34m(\u001b[0m\u001b[0;34m'utf-8'\u001b[0m\u001b[0;34m)\u001b[0m\u001b[0;34m\u001b[0m\u001b[0m\n",
        "\u001b[0;32m<ipython-input-4-5494857499d9>\u001b[0m in \u001b[0;36msimulate_case_study\u001b[0;34m(**simulation)\u001b[0m\n\u001b[1;32m     15\u001b[0m         \u001b[0;32mraise\u001b[0m\u001b[0;34m\u001b[0m\u001b[0m\n\u001b[1;32m     16\u001b[0m     \u001b[0;32massert\u001b[0m \u001b[0mresponse\u001b[0m\u001b[0;34m.\u001b[0m\u001b[0mcode\u001b[0m \u001b[0;34m==\u001b[0m \u001b[0;36m200\u001b[0m\u001b[0;34m\u001b[0m\u001b[0m\n\u001b[0;32m---> 17\u001b[0;31m     \u001b[0mresult\u001b[0m\u001b[0;34m,\u001b[0m \u001b[0merror\u001b[0m \u001b[0;34m=\u001b[0m \u001b[0mapi_response_to_value\u001b[0m\u001b[0;34m(\u001b[0m\u001b[0mresponse\u001b[0m\u001b[0;34m.\u001b[0m\u001b[0mread\u001b[0m\u001b[0;34m(\u001b[0m\u001b[0;34m)\u001b[0m\u001b[0;34m,\u001b[0m \u001b[0mstate\u001b[0m \u001b[0;34m=\u001b[0m \u001b[0mconv\u001b[0m\u001b[0;34m.\u001b[0m\u001b[0mdefault_state\u001b[0m\u001b[0;34m)\u001b[0m\u001b[0;34m\u001b[0m\u001b[0m\n\u001b[0m\u001b[1;32m     18\u001b[0m     \u001b[0;32mif\u001b[0m \u001b[0merror\u001b[0m \u001b[0;32mis\u001b[0m \u001b[0;32mnot\u001b[0m \u001b[0mNone\u001b[0m\u001b[0;34m:\u001b[0m\u001b[0;34m\u001b[0m\u001b[0m\n\u001b[1;32m     19\u001b[0m         \u001b[0;32mif\u001b[0m \u001b[0misinstance\u001b[0m\u001b[0;34m(\u001b[0m\u001b[0merror\u001b[0m\u001b[0;34m,\u001b[0m \u001b[0mdict\u001b[0m\u001b[0;34m)\u001b[0m\u001b[0;34m:\u001b[0m\u001b[0;34m\u001b[0m\u001b[0m\n",
        "\u001b[0;31mNameError\u001b[0m: global name 'api_response_to_value' is not defined"
       ]
      }
     ],
     "prompt_number": 6
    },
    {
     "cell_type": "code",
     "collapsed": false,
     "input": [],
     "language": "python",
     "metadata": {},
     "outputs": [],
     "prompt_number": 18
    }
   ],
   "metadata": {}
  }
 ]
}