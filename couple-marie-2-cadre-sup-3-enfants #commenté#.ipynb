{
 "metadata": {
  "name": "couple-marie-2-cadre-sup-3-enfants #comment\u00e9#"
 },
 "nbformat": 3,
 "nbformat_minor": 0,
 "worksheets": [
  {
   "cells": [
    {
     "cell_type": "markdown",
     "metadata": {},
     "source": [
      "Import des differents paquages qui vont nous aider a coder"
     ]
    },
    {
     "cell_type": "code",
     "collapsed": false,
     "input": [
      "from __future__ import division\n",
      "\n",
      "#import des packages utiles pour le projet.\n",
      "import collections\n",
      "import copy\n",
      "import json\n",
      "import urllib2"
     ],
     "language": "python",
     "metadata": {},
     "outputs": [],
     "prompt_number": 1
    },
    {
     "cell_type": "markdown",
     "metadata": {},
     "source": [
      "Cr\u00e9ation d'un objet \"base scenario\" dans lequel nous allons int\u00e9grer les param\u00eatres des individus comprennant le \"m\u00e9nage\""
     ]
    },
    {
     "cell_type": "code",
     "collapsed": false,
     "input": [
      "test_case = dict(\n",
      "        #Cr\u00e9ation d'une variable familles dans laquelle nous allons renseigner le type et le nombres de personnes constituant cette derni\u00e8re\n",
      "        familles = [\n",
      "            dict(\n",
      "                #Ici il y a donc 2 parents 'ind0' et 'ind1' et 3 enfants 'ind2', 'ind3' et 'ind4'\n",
      "                parents = ['ind0', 'ind1'],\n",
      "                enfants = ['ind2', 'ind3', 'ind4'],\n",
      "                ),\n",
      "            ],\n",
      "        #cr\u00e9ation d'une variable foyers fiscaux dans laquelle on renseigner qui effectue la d\u00e9claration d'imp\u00f4ts et qui est \u00e0 la charge de qui\n",
      "        foyers_fiscaux = [\n",
      "            dict(\n",
      "                #Ici il y a donc 2 d\u00e9clarant (les parents) 'ind0' et 'ind1' et 3 enfants a charges 'ind2', 'ind3' et 'ind4'\n",
      "                declarants = ['ind0', 'ind1'],\n",
      "                personnes_a_charge = ['ind2', 'ind3', 'ind4'],\n",
      "                ),\n",
      "            ],\n",
      "        #cr\u00e9ation d'une variable individus qui permettras de \"pr\u00e9senter\" chaque individu\n",
      "        individus = [\n",
      "            #La personne pr\u00e9sent\u00e9s ci-dessous est un actif occup\u00e9 (cadre) mari\u00e9 n\u00e9e le 01/01/1970 qui touche 130 000\u20ac/an et qui a pour id 'ind0'\n",
      "            dict(\n",
      "                activite = u'Actif occup\u00e9',\n",
      "                birth = 1970,\n",
      "                cadre = True,\n",
      "                id = 'ind0',\n",
      "                statmarit = u'Mari\u00e9',\n",
      "                ),\n",
      "            #La personne pr\u00e9sent\u00e9s ci-dessous est un actif occup\u00e9 (cadre) mari\u00e9 n\u00e9e le 02/01/1970 qui touche 130 000\u20ac/an et qui a pour id 'ind1'\n",
      "            dict(\n",
      "                activite = u'Actif occup\u00e9',\n",
      "                birth = 1970,\n",
      "                cadre = True,\n",
      "                id = 'ind1',\n",
      "                statmarit = u'Mari\u00e9',\n",
      "                ),\n",
      "            #La personne pr\u00e9sent\u00e9s ci-dessous est un etudiant n\u00e9e le 03/01/2000 et qui a pour id 'ind2'\n",
      "            dict(\n",
      "                activite = u'\u00c9tudiant, \u00e9l\u00e8ve',\n",
      "                birth = 2000,\n",
      "                id = 'ind2',\n",
      "                ),\n",
      "            #La personne pr\u00e9sent\u00e9s ci-dessous est un etudiant n\u00e9e le 03/01/2000 et qui a pour id 'ind3'\n",
      "            dict(\n",
      "                activite = u'\u00c9tudiant, \u00e9l\u00e8ve',\n",
      "                birth = 2000,\n",
      "                id = 'ind3',\n",
      "                ),\n",
      "            #La personne pr\u00e9sent\u00e9s ci-dessous est un etudiant n\u00e9e le 03/01/2000 et qui a pour id 'ind3'\n",
      "            dict(\n",
      "                activite = u'\u00c9tudiant, \u00e9l\u00e8ve',\n",
      "                birth = 2000,\n",
      "                id = 'ind4',\n",
      "                ),\n",
      "            ],\n",
      "        menages = [\n",
      "            #Ici la personne de r\u00e9ference est donc le premier parents d'id 'ind0', son conjoint le parent d'id 'ind1' et enfin les 3 enfants 'ind2', 'ind3' et 'ind4'\n",
      "            dict(\n",
      "                personne_de_reference = 'ind0',\n",
      "                conjoint = 'ind1',\n",
      "                enfants = ['ind2', 'ind3', 'ind4'],\n",
      "                ),\n",
      "        ],\n",
      "    )\n",
      "#La d\u00e9claration est effectu\u00e9e sur l'ann\u00e9e 2013\n",
      "years = [2013]"
     ],
     "language": "python",
     "metadata": {},
     "outputs": [],
     "prompt_number": 2
    },
    {
     "cell_type": "markdown",
     "metadata": {},
     "source": [
      "Cr\u00e9ation de l'objet \"scenarios\", qui vas copier le \"test_case\" dans une variable \"scenario\"."
     ]
    },
    {
     "cell_type": "code",
     "collapsed": false,
     "input": [
      "scenarios = [\n",
      "    dict(\n",
      "        axes = [\n",
      "            # index 0 fait r\u00e9f\u00e9rence au premier individu, avec un salaire de 90000 sur 3 echelons.\n",
      "            dict(\n",
      "                index = 0,\n",
      "                count = 3,\n",
      "                max = 90000,\n",
      "                min = 0,\n",
      "                name = 'sali',\n",
      "                ),\n",
      "            # index 1 fait r\u00e9f\u00e9rence au deuxi\u00e8me individu, avec un salaire de 90000 sur 3 echelons.\n",
      "            dict(\n",
      "                index = 1,\n",
      "                count = 3,\n",
      "                max = 90000,\n",
      "                min = 0,\n",
      "                name = 'sali',\n",
      "                ),\n",
      "          ],\n",
      "        legislation_url = 'http://localhost:2014/api/1/default-legislation',\n",
      "        test_case = test_case,\n",
      "        year = year,\n",
      "        )\n",
      "    for year in years\n",
      "    ]\n",
      "simulation = dict(\n",
      "    scenarios = scenarios,\n",
      "    tax_benefit_system = None,\n",
      "    )"
     ],
     "language": "python",
     "metadata": {},
     "outputs": [],
     "prompt_number": 3
    },
    {
     "cell_type": "code",
     "collapsed": false,
     "input": [
      "request = urllib2.Request('http://localhost:2014/api/1/simulate', headers = {\n",
      "    'Content-Type': 'application/json',\n",
      "    'User-Agent': 'OpenFisca-Notebook',\n",
      "    })\n",
      "try:\n",
      "    response = urllib2.urlopen(request, json.dumps(simulation))\n",
      "except urllib2.HTTPError as response:\n",
      "    print response.read()\n",
      "    raise\n",
      "response_text = response.read()\n",
      "response_dict = json.loads(response_text, object_pairs_hook = collections.OrderedDict)\n",
      "tree = response_dict['value']"
     ],
     "language": "python",
     "metadata": {},
     "outputs": [],
     "prompt_number": 4
    },
    {
     "cell_type": "code",
     "collapsed": false,
     "input": [
      "def any(iterator):\n",
      "    for item in iterator:\n",
      "        if item:\n",
      "            return True\n",
      "    return False\n",
      "\n",
      "def iter_columns_from_tree(node, base_values = None):\n",
      "    children = node.get('children')\n",
      "    if children:\n",
      "        child_base_values = base_values\n",
      "        for child in children:\n",
      "            for column in iter_columns_from_tree(child, base_values = child_base_values):\n",
      "                yield column\n",
      "            if child_base_values is None:\n",
      "                child_base_values = child['values']\n",
      "            else:\n",
      "                child_base_values = [\n",
      "                    base_value + value\n",
      "                    for base_value, value in zip(child_base_values, child['values'])\n",
      "                    ]\n",
      "\n",
      "    if any(value != 0 for value in node['values']):\n",
      "        column = dict(\n",
      "            base_values = base_values,\n",
      "            code = node['code'],\n",
      "            )\n",
      "        column.update(node)\n",
      "        yield column"
     ],
     "language": "python",
     "metadata": {},
     "outputs": [],
     "prompt_number": 5
    },
    {
     "cell_type": "code",
     "collapsed": false,
     "input": [
      "for column_index, column in enumerate(iter_columns_from_tree(tree)):\n",
      "    print u'{:40s} | {}'.format(column['name'], ' | '.join('{:6.0f}'.format(value) for value in column['values']))"
     ],
     "language": "python",
     "metadata": {},
     "outputs": [
      {
       "output_type": "stream",
       "stream": "stdout",
       "text": [
        "Salaires super bruts                     |      0 |  79461 | 157565 |  79461 | 158922 | 237026 | 157565 | 237026 | 315131\n",
        "Cotisations sociales patronales          |      0 | -24401 | -48184 | -24401 | -48803 | -72585 | -48184 | -72585 | -96367\n",
        "Salaires bruts                           |      0 |  55060 | 109382 |  55060 | 110119 | 164441 | 109382 | 164441 | 218764\n",
        "Cotisations sociales salari\u00e9es           |      0 |  -7301 | -13901 |  -7301 | -14602 | -21202 | -13901 | -21202 | -27802\n",
        "CSG d\u00e9ductible (salaires)                |      0 |  -2759 |  -5481 |  -2759 |  -5518 |  -8240 |  -5481 |  -8240 | -10962\n",
        "Salaires imposables                      |      0 |  45000 |  90000 |  45000 |  90000 | 135000 |  90000 | 135000 | 180000\n",
        "CSG non d\u00e9ductible (salaires)            |      0 |  -1298 |  -2579 |  -1298 |  -2597 |  -3878 |  -2579 |  -3878 |  -5158\n",
        "CRDS (salaires)                          |      0 |   -270 |   -537 |   -270 |   -541 |   -808 |   -537 |   -808 |  -1075\n",
        "Salaires nets                            |      0 |  43431 |  86883 |  43431 |  86862 | 130315 |  86883 | 130315 | 173767\n",
        "Revenu du travail                        |      0 |  43431 |  86883 |  43431 |  86862 | 130315 |  86883 | 130315 | 173767\n",
        "Revenus nets                             |      0 |  43431 |  86883 |  43431 |  86862 | 130315 |  86883 | 130315 | 173767\n",
        "Allocations familiales                   |   3495 |   3495 |   3495 |   3495 |   3495 |   3495 |   3495 |   3495 |   3495\n",
        "Compl\u00e9ment familial                      |   1994 |      0 |      0 |      0 |      0 |      0 |      0 |      0 |      0\n",
        "Allocation de rentr\u00e9e scolaire           |   1133 |      0 |      0 |      0 |      0 |      0 |      0 |      0 |      0\n",
        "CRDS (prestations familiales)            |    -33 |    -17 |    -17 |    -17 |    -17 |    -17 |    -17 |    -17 |    -17\n",
        "Prestations familiales                   |   6590 |   3478 |   3478 |   3478 |   3478 |   3478 |   3478 |   3478 |   3478\n",
        "Revenu de solidarit\u00e9 active              |   7285 |      0 |      0 |      0 |      0 |      0 |      0 |      0 |      0\n",
        "Aide exceptionelle de fin d'ann\u00e9e        |    549 |      0 |      0 |      0 |      0 |      0 |      0 |      0 |      0\n",
        "Minima sociaux                           |   7834 |      0 |      0 |      0 |      0 |      0 |      0 |      0 |      0\n",
        "Prestations sociales                     |  14424 |   3478 |   3478 |   3478 |   3478 |   3478 |   3478 |   3478 |   3478\n",
        "Imp\u00f4t sur le revenu                      |      0 |  -2970 | -13078 |  -2970 | -13078 | -25228 | -13078 | -25228 | -39491\n",
        "Imp\u00f4ts directs                           |      0 |  -2970 | -13078 |  -2970 | -13078 | -25228 | -13078 | -25228 | -39491\n",
        "Revenu disponible                        |  14424 |  43939 |  77283 |  43939 |  77262 | 108564 |  77283 | 108564 | 137754\n"
       ]
      }
     ],
     "prompt_number": 6
    },
    {
     "cell_type": "code",
     "collapsed": false,
     "input": [],
     "language": "python",
     "metadata": {},
     "outputs": []
    }
   ],
   "metadata": {}
  }
 ]
}